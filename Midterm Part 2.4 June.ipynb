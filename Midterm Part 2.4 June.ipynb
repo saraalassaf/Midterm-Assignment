{
 "cells": [
  {
   "cell_type": "code",
   "execution_count": 1,
   "id": "8d952377",
   "metadata": {},
   "outputs": [
    {
     "data": {
      "text/html": [
       "<div>\n",
       "<style scoped>\n",
       "    .dataframe tbody tr th:only-of-type {\n",
       "        vertical-align: middle;\n",
       "    }\n",
       "\n",
       "    .dataframe tbody tr th {\n",
       "        vertical-align: top;\n",
       "    }\n",
       "\n",
       "    .dataframe thead th {\n",
       "        text-align: right;\n",
       "    }\n",
       "</style>\n",
       "<table border=\"1\" class=\"dataframe\">\n",
       "  <thead>\n",
       "    <tr style=\"text-align: right;\">\n",
       "      <th></th>\n",
       "      <th>Order Date</th>\n",
       "      <th>Order ID</th>\n",
       "      <th>Payment Instrument Type</th>\n",
       "      <th>Website</th>\n",
       "      <th>Purchase Order Number</th>\n",
       "      <th>Ordering Customer Email</th>\n",
       "      <th>Shipment Date</th>\n",
       "      <th>Shipping Address Name</th>\n",
       "      <th>Shipping Address Street 1</th>\n",
       "      <th>Shipping Address Street 2</th>\n",
       "      <th>...</th>\n",
       "      <th>Order Status</th>\n",
       "      <th>Carrier Name &amp; Tracking Number</th>\n",
       "      <th>Subtotal</th>\n",
       "      <th>Shipping Charge</th>\n",
       "      <th>Tax Before Promotions</th>\n",
       "      <th>Total Promotions</th>\n",
       "      <th>Tax Charged</th>\n",
       "      <th>Total Charged</th>\n",
       "      <th>Buyer Name</th>\n",
       "      <th>Group Name</th>\n",
       "    </tr>\n",
       "  </thead>\n",
       "  <tbody>\n",
       "    <tr>\n",
       "      <th>0</th>\n",
       "      <td>06/03/19</td>\n",
       "      <td>112-0000000-0000029</td>\n",
       "      <td>Visa - 0001</td>\n",
       "      <td>Amazon.com</td>\n",
       "      <td>NaN</td>\n",
       "      <td>your_email@gmail.com</td>\n",
       "      <td>06/05/19</td>\n",
       "      <td>Your Name</td>\n",
       "      <td>1 YOUR STREET</td>\n",
       "      <td>NaN</td>\n",
       "      <td>...</td>\n",
       "      <td>Shipped</td>\n",
       "      <td>USPS(0001)</td>\n",
       "      <td>$28.99</td>\n",
       "      <td>$0.00</td>\n",
       "      <td>$0.00</td>\n",
       "      <td>$0.00</td>\n",
       "      <td>$0.00</td>\n",
       "      <td>$28.99</td>\n",
       "      <td>Your Name</td>\n",
       "      <td>NaN</td>\n",
       "    </tr>\n",
       "    <tr>\n",
       "      <th>1</th>\n",
       "      <td>06/03/19</td>\n",
       "      <td>112-0000000-0000030</td>\n",
       "      <td>Visa - 0001</td>\n",
       "      <td>Amazon.com</td>\n",
       "      <td>NaN</td>\n",
       "      <td>your_email@gmail.com</td>\n",
       "      <td>06/05/19</td>\n",
       "      <td>Your Name</td>\n",
       "      <td>1 YOUR STREET</td>\n",
       "      <td>NaN</td>\n",
       "      <td>...</td>\n",
       "      <td>Shipped</td>\n",
       "      <td>UPS(0002)</td>\n",
       "      <td>$13.88</td>\n",
       "      <td>$0.00</td>\n",
       "      <td>$0.00</td>\n",
       "      <td>$0.00</td>\n",
       "      <td>$0.00</td>\n",
       "      <td>$13.88</td>\n",
       "      <td>Your Name</td>\n",
       "      <td>NaN</td>\n",
       "    </tr>\n",
       "    <tr>\n",
       "      <th>2</th>\n",
       "      <td>06/05/19</td>\n",
       "      <td>112-0000000-0000031</td>\n",
       "      <td>Visa - 0001</td>\n",
       "      <td>Amazon.com</td>\n",
       "      <td>NaN</td>\n",
       "      <td>your_email@gmail.com</td>\n",
       "      <td>06/05/19</td>\n",
       "      <td>Your Name</td>\n",
       "      <td>1 YOUR STREET</td>\n",
       "      <td>NaN</td>\n",
       "      <td>...</td>\n",
       "      <td>Shipped</td>\n",
       "      <td>USPS(0001)</td>\n",
       "      <td>$11.62</td>\n",
       "      <td>$0.00</td>\n",
       "      <td>$0.64</td>\n",
       "      <td>$0.00</td>\n",
       "      <td>$0.64</td>\n",
       "      <td>$12.26</td>\n",
       "      <td>Your Name</td>\n",
       "      <td>NaN</td>\n",
       "    </tr>\n",
       "    <tr>\n",
       "      <th>3</th>\n",
       "      <td>06/18/19</td>\n",
       "      <td>112-0000000-0000032</td>\n",
       "      <td>Visa - 0001</td>\n",
       "      <td>Amazon.com</td>\n",
       "      <td>NaN</td>\n",
       "      <td>your_email@gmail.com</td>\n",
       "      <td>06/19/19</td>\n",
       "      <td>Your Name</td>\n",
       "      <td>1 YOUR STREET</td>\n",
       "      <td>NaN</td>\n",
       "      <td>...</td>\n",
       "      <td>Shipped</td>\n",
       "      <td>USPS(0001)</td>\n",
       "      <td>$11.98</td>\n",
       "      <td>$0.00</td>\n",
       "      <td>$0.66</td>\n",
       "      <td>$0.00</td>\n",
       "      <td>$0.66</td>\n",
       "      <td>$12.64</td>\n",
       "      <td>Your Name</td>\n",
       "      <td>NaN</td>\n",
       "    </tr>\n",
       "    <tr>\n",
       "      <th>4</th>\n",
       "      <td>06/25/19</td>\n",
       "      <td>112-0000000-0000033</td>\n",
       "      <td>Visa - 0001</td>\n",
       "      <td>Amazon.com</td>\n",
       "      <td>NaN</td>\n",
       "      <td>your_email@gmail.com</td>\n",
       "      <td>06/26/19</td>\n",
       "      <td>Your Name</td>\n",
       "      <td>1 YOUR STREET</td>\n",
       "      <td>NaN</td>\n",
       "      <td>...</td>\n",
       "      <td>Shipped</td>\n",
       "      <td>UPS(0002)</td>\n",
       "      <td>$51.99</td>\n",
       "      <td>$0.00</td>\n",
       "      <td>$0.00</td>\n",
       "      <td>$0.00</td>\n",
       "      <td>$0.00</td>\n",
       "      <td>$51.99</td>\n",
       "      <td>Your Name</td>\n",
       "      <td>NaN</td>\n",
       "    </tr>\n",
       "  </tbody>\n",
       "</table>\n",
       "<p>5 rows × 23 columns</p>\n",
       "</div>"
      ],
      "text/plain": [
       "  Order Date             Order ID Payment Instrument Type     Website  \\\n",
       "0   06/03/19  112-0000000-0000029             Visa - 0001  Amazon.com   \n",
       "1   06/03/19  112-0000000-0000030             Visa - 0001  Amazon.com   \n",
       "2   06/05/19  112-0000000-0000031             Visa - 0001  Amazon.com   \n",
       "3   06/18/19  112-0000000-0000032             Visa - 0001  Amazon.com   \n",
       "4   06/25/19  112-0000000-0000033             Visa - 0001  Amazon.com   \n",
       "\n",
       "   Purchase Order Number Ordering Customer Email Shipment Date  \\\n",
       "0                    NaN    your_email@gmail.com      06/05/19   \n",
       "1                    NaN    your_email@gmail.com      06/05/19   \n",
       "2                    NaN    your_email@gmail.com      06/05/19   \n",
       "3                    NaN    your_email@gmail.com      06/19/19   \n",
       "4                    NaN    your_email@gmail.com      06/26/19   \n",
       "\n",
       "  Shipping Address Name Shipping Address Street 1  Shipping Address Street 2  \\\n",
       "0             Your Name             1 YOUR STREET                        NaN   \n",
       "1             Your Name             1 YOUR STREET                        NaN   \n",
       "2             Your Name             1 YOUR STREET                        NaN   \n",
       "3             Your Name             1 YOUR STREET                        NaN   \n",
       "4             Your Name             1 YOUR STREET                        NaN   \n",
       "\n",
       "   ... Order Status Carrier Name & Tracking Number Subtotal Shipping Charge  \\\n",
       "0  ...      Shipped                     USPS(0001)   $28.99           $0.00   \n",
       "1  ...      Shipped                      UPS(0002)   $13.88           $0.00   \n",
       "2  ...      Shipped                     USPS(0001)   $11.62           $0.00   \n",
       "3  ...      Shipped                     USPS(0001)   $11.98           $0.00   \n",
       "4  ...      Shipped                      UPS(0002)   $51.99           $0.00   \n",
       "\n",
       "  Tax Before Promotions Total Promotions Tax Charged Total Charged Buyer Name  \\\n",
       "0                 $0.00            $0.00       $0.00        $28.99  Your Name   \n",
       "1                 $0.00            $0.00       $0.00        $13.88  Your Name   \n",
       "2                 $0.64            $0.00       $0.64        $12.26  Your Name   \n",
       "3                 $0.66            $0.00       $0.66        $12.64  Your Name   \n",
       "4                 $0.00            $0.00       $0.00        $51.99  Your Name   \n",
       "\n",
       "  Group Name  \n",
       "0        NaN  \n",
       "1        NaN  \n",
       "2        NaN  \n",
       "3        NaN  \n",
       "4        NaN  \n",
       "\n",
       "[5 rows x 23 columns]"
      ]
     },
     "execution_count": 1,
     "metadata": {},
     "output_type": "execute_result"
    }
   ],
   "source": [
    "import pandas as pd\n",
    "\n",
    "df = pd.read_csv('June 2019.csv')\n",
    "df.head()"
   ]
  },
  {
   "cell_type": "code",
   "execution_count": 2,
   "id": "d6134f51",
   "metadata": {},
   "outputs": [
    {
     "data": {
      "text/plain": [
       "(6, 23)"
      ]
     },
     "execution_count": 2,
     "metadata": {},
     "output_type": "execute_result"
    }
   ],
   "source": [
    "df.shape"
   ]
  },
  {
   "cell_type": "code",
   "execution_count": 3,
   "id": "e435be7f",
   "metadata": {},
   "outputs": [
    {
     "data": {
      "text/html": [
       "<div>\n",
       "<style scoped>\n",
       "    .dataframe tbody tr th:only-of-type {\n",
       "        vertical-align: middle;\n",
       "    }\n",
       "\n",
       "    .dataframe tbody tr th {\n",
       "        vertical-align: top;\n",
       "    }\n",
       "\n",
       "    .dataframe thead th {\n",
       "        text-align: right;\n",
       "    }\n",
       "</style>\n",
       "<table border=\"1\" class=\"dataframe\">\n",
       "  <thead>\n",
       "    <tr style=\"text-align: right;\">\n",
       "      <th></th>\n",
       "      <th>Order Date</th>\n",
       "      <th>Order ID</th>\n",
       "      <th>Payment Instrument Type</th>\n",
       "      <th>Website</th>\n",
       "      <th>Purchase Order Number</th>\n",
       "      <th>Ordering Customer Email</th>\n",
       "      <th>Shipment Date</th>\n",
       "      <th>Shipping Address Name</th>\n",
       "      <th>Shipping Address Street 1</th>\n",
       "      <th>Shipping Address Street 2</th>\n",
       "      <th>...</th>\n",
       "      <th>Order Status</th>\n",
       "      <th>Carrier Name &amp; Tracking Number</th>\n",
       "      <th>Subtotal</th>\n",
       "      <th>Shipping Charge</th>\n",
       "      <th>Tax Before Promotions</th>\n",
       "      <th>Total Promotions</th>\n",
       "      <th>Tax Charged</th>\n",
       "      <th>Total Charged</th>\n",
       "      <th>Buyer Name</th>\n",
       "      <th>Group Name</th>\n",
       "    </tr>\n",
       "  </thead>\n",
       "  <tbody>\n",
       "    <tr>\n",
       "      <th>0</th>\n",
       "      <td>06/03/19</td>\n",
       "      <td>112-0000000-0000029</td>\n",
       "      <td>Visa - 0001</td>\n",
       "      <td>Amazon.com</td>\n",
       "      <td>0.0</td>\n",
       "      <td>your_email@gmail.com</td>\n",
       "      <td>06/05/19</td>\n",
       "      <td>Your Name</td>\n",
       "      <td>1 YOUR STREET</td>\n",
       "      <td>0.0</td>\n",
       "      <td>...</td>\n",
       "      <td>Shipped</td>\n",
       "      <td>USPS(0001)</td>\n",
       "      <td>$28.99</td>\n",
       "      <td>$0.00</td>\n",
       "      <td>$0.00</td>\n",
       "      <td>$0.00</td>\n",
       "      <td>$0.00</td>\n",
       "      <td>$28.99</td>\n",
       "      <td>Your Name</td>\n",
       "      <td>0.0</td>\n",
       "    </tr>\n",
       "    <tr>\n",
       "      <th>1</th>\n",
       "      <td>06/03/19</td>\n",
       "      <td>112-0000000-0000030</td>\n",
       "      <td>Visa - 0001</td>\n",
       "      <td>Amazon.com</td>\n",
       "      <td>0.0</td>\n",
       "      <td>your_email@gmail.com</td>\n",
       "      <td>06/05/19</td>\n",
       "      <td>Your Name</td>\n",
       "      <td>1 YOUR STREET</td>\n",
       "      <td>0.0</td>\n",
       "      <td>...</td>\n",
       "      <td>Shipped</td>\n",
       "      <td>UPS(0002)</td>\n",
       "      <td>$13.88</td>\n",
       "      <td>$0.00</td>\n",
       "      <td>$0.00</td>\n",
       "      <td>$0.00</td>\n",
       "      <td>$0.00</td>\n",
       "      <td>$13.88</td>\n",
       "      <td>Your Name</td>\n",
       "      <td>0.0</td>\n",
       "    </tr>\n",
       "    <tr>\n",
       "      <th>2</th>\n",
       "      <td>06/05/19</td>\n",
       "      <td>112-0000000-0000031</td>\n",
       "      <td>Visa - 0001</td>\n",
       "      <td>Amazon.com</td>\n",
       "      <td>0.0</td>\n",
       "      <td>your_email@gmail.com</td>\n",
       "      <td>06/05/19</td>\n",
       "      <td>Your Name</td>\n",
       "      <td>1 YOUR STREET</td>\n",
       "      <td>0.0</td>\n",
       "      <td>...</td>\n",
       "      <td>Shipped</td>\n",
       "      <td>USPS(0001)</td>\n",
       "      <td>$11.62</td>\n",
       "      <td>$0.00</td>\n",
       "      <td>$0.64</td>\n",
       "      <td>$0.00</td>\n",
       "      <td>$0.64</td>\n",
       "      <td>$12.26</td>\n",
       "      <td>Your Name</td>\n",
       "      <td>0.0</td>\n",
       "    </tr>\n",
       "    <tr>\n",
       "      <th>3</th>\n",
       "      <td>06/18/19</td>\n",
       "      <td>112-0000000-0000032</td>\n",
       "      <td>Visa - 0001</td>\n",
       "      <td>Amazon.com</td>\n",
       "      <td>0.0</td>\n",
       "      <td>your_email@gmail.com</td>\n",
       "      <td>06/19/19</td>\n",
       "      <td>Your Name</td>\n",
       "      <td>1 YOUR STREET</td>\n",
       "      <td>0.0</td>\n",
       "      <td>...</td>\n",
       "      <td>Shipped</td>\n",
       "      <td>USPS(0001)</td>\n",
       "      <td>$11.98</td>\n",
       "      <td>$0.00</td>\n",
       "      <td>$0.66</td>\n",
       "      <td>$0.00</td>\n",
       "      <td>$0.66</td>\n",
       "      <td>$12.64</td>\n",
       "      <td>Your Name</td>\n",
       "      <td>0.0</td>\n",
       "    </tr>\n",
       "    <tr>\n",
       "      <th>4</th>\n",
       "      <td>06/25/19</td>\n",
       "      <td>112-0000000-0000033</td>\n",
       "      <td>Visa - 0001</td>\n",
       "      <td>Amazon.com</td>\n",
       "      <td>0.0</td>\n",
       "      <td>your_email@gmail.com</td>\n",
       "      <td>06/26/19</td>\n",
       "      <td>Your Name</td>\n",
       "      <td>1 YOUR STREET</td>\n",
       "      <td>0.0</td>\n",
       "      <td>...</td>\n",
       "      <td>Shipped</td>\n",
       "      <td>UPS(0002)</td>\n",
       "      <td>$51.99</td>\n",
       "      <td>$0.00</td>\n",
       "      <td>$0.00</td>\n",
       "      <td>$0.00</td>\n",
       "      <td>$0.00</td>\n",
       "      <td>$51.99</td>\n",
       "      <td>Your Name</td>\n",
       "      <td>0.0</td>\n",
       "    </tr>\n",
       "  </tbody>\n",
       "</table>\n",
       "<p>5 rows × 23 columns</p>\n",
       "</div>"
      ],
      "text/plain": [
       "  Order Date             Order ID Payment Instrument Type     Website  \\\n",
       "0   06/03/19  112-0000000-0000029             Visa - 0001  Amazon.com   \n",
       "1   06/03/19  112-0000000-0000030             Visa - 0001  Amazon.com   \n",
       "2   06/05/19  112-0000000-0000031             Visa - 0001  Amazon.com   \n",
       "3   06/18/19  112-0000000-0000032             Visa - 0001  Amazon.com   \n",
       "4   06/25/19  112-0000000-0000033             Visa - 0001  Amazon.com   \n",
       "\n",
       "   Purchase Order Number Ordering Customer Email Shipment Date  \\\n",
       "0                    0.0    your_email@gmail.com      06/05/19   \n",
       "1                    0.0    your_email@gmail.com      06/05/19   \n",
       "2                    0.0    your_email@gmail.com      06/05/19   \n",
       "3                    0.0    your_email@gmail.com      06/19/19   \n",
       "4                    0.0    your_email@gmail.com      06/26/19   \n",
       "\n",
       "  Shipping Address Name Shipping Address Street 1  Shipping Address Street 2  \\\n",
       "0             Your Name             1 YOUR STREET                        0.0   \n",
       "1             Your Name             1 YOUR STREET                        0.0   \n",
       "2             Your Name             1 YOUR STREET                        0.0   \n",
       "3             Your Name             1 YOUR STREET                        0.0   \n",
       "4             Your Name             1 YOUR STREET                        0.0   \n",
       "\n",
       "   ... Order Status Carrier Name & Tracking Number Subtotal Shipping Charge  \\\n",
       "0  ...      Shipped                     USPS(0001)   $28.99           $0.00   \n",
       "1  ...      Shipped                      UPS(0002)   $13.88           $0.00   \n",
       "2  ...      Shipped                     USPS(0001)   $11.62           $0.00   \n",
       "3  ...      Shipped                     USPS(0001)   $11.98           $0.00   \n",
       "4  ...      Shipped                      UPS(0002)   $51.99           $0.00   \n",
       "\n",
       "  Tax Before Promotions Total Promotions Tax Charged Total Charged Buyer Name  \\\n",
       "0                 $0.00            $0.00       $0.00        $28.99  Your Name   \n",
       "1                 $0.00            $0.00       $0.00        $13.88  Your Name   \n",
       "2                 $0.64            $0.00       $0.64        $12.26  Your Name   \n",
       "3                 $0.66            $0.00       $0.66        $12.64  Your Name   \n",
       "4                 $0.00            $0.00       $0.00        $51.99  Your Name   \n",
       "\n",
       "  Group Name  \n",
       "0        0.0  \n",
       "1        0.0  \n",
       "2        0.0  \n",
       "3        0.0  \n",
       "4        0.0  \n",
       "\n",
       "[5 rows x 23 columns]"
      ]
     },
     "execution_count": 3,
     "metadata": {},
     "output_type": "execute_result"
    }
   ],
   "source": [
    "df = df.fillna(0)\n",
    "df.head()"
   ]
  },
  {
   "cell_type": "code",
   "execution_count": 4,
   "id": "898e7e2c",
   "metadata": {},
   "outputs": [
    {
     "name": "stderr",
     "output_type": "stream",
     "text": [
      "/var/folders/27/j6c_5x5s2cndlm2bg35pmtwh0000gn/T/ipykernel_92014/2463331391.py:1: FutureWarning: The default value of regex will change from True to False in a future version. In addition, single character regular expressions will *not* be treated as literal strings when regex=True.\n",
      "  df[\"Total Charged\"] = df[\"Total Charged\"].str.replace('$','').astype(float)\n"
     ]
    },
    {
     "data": {
      "text/html": [
       "<div>\n",
       "<style scoped>\n",
       "    .dataframe tbody tr th:only-of-type {\n",
       "        vertical-align: middle;\n",
       "    }\n",
       "\n",
       "    .dataframe tbody tr th {\n",
       "        vertical-align: top;\n",
       "    }\n",
       "\n",
       "    .dataframe thead th {\n",
       "        text-align: right;\n",
       "    }\n",
       "</style>\n",
       "<table border=\"1\" class=\"dataframe\">\n",
       "  <thead>\n",
       "    <tr style=\"text-align: right;\">\n",
       "      <th></th>\n",
       "      <th>Order Date</th>\n",
       "      <th>Order ID</th>\n",
       "      <th>Payment Instrument Type</th>\n",
       "      <th>Website</th>\n",
       "      <th>Purchase Order Number</th>\n",
       "      <th>Ordering Customer Email</th>\n",
       "      <th>Shipment Date</th>\n",
       "      <th>Shipping Address Name</th>\n",
       "      <th>Shipping Address Street 1</th>\n",
       "      <th>Shipping Address Street 2</th>\n",
       "      <th>...</th>\n",
       "      <th>Order Status</th>\n",
       "      <th>Carrier Name &amp; Tracking Number</th>\n",
       "      <th>Subtotal</th>\n",
       "      <th>Shipping Charge</th>\n",
       "      <th>Tax Before Promotions</th>\n",
       "      <th>Total Promotions</th>\n",
       "      <th>Tax Charged</th>\n",
       "      <th>Total Charged</th>\n",
       "      <th>Buyer Name</th>\n",
       "      <th>Group Name</th>\n",
       "    </tr>\n",
       "  </thead>\n",
       "  <tbody>\n",
       "    <tr>\n",
       "      <th>0</th>\n",
       "      <td>06/03/19</td>\n",
       "      <td>112-0000000-0000029</td>\n",
       "      <td>Visa - 0001</td>\n",
       "      <td>Amazon.com</td>\n",
       "      <td>0.0</td>\n",
       "      <td>your_email@gmail.com</td>\n",
       "      <td>06/05/19</td>\n",
       "      <td>Your Name</td>\n",
       "      <td>1 YOUR STREET</td>\n",
       "      <td>0.0</td>\n",
       "      <td>...</td>\n",
       "      <td>Shipped</td>\n",
       "      <td>USPS(0001)</td>\n",
       "      <td>$28.99</td>\n",
       "      <td>$0.00</td>\n",
       "      <td>$0.00</td>\n",
       "      <td>$0.00</td>\n",
       "      <td>$0.00</td>\n",
       "      <td>28.99</td>\n",
       "      <td>Your Name</td>\n",
       "      <td>0.0</td>\n",
       "    </tr>\n",
       "    <tr>\n",
       "      <th>1</th>\n",
       "      <td>06/03/19</td>\n",
       "      <td>112-0000000-0000030</td>\n",
       "      <td>Visa - 0001</td>\n",
       "      <td>Amazon.com</td>\n",
       "      <td>0.0</td>\n",
       "      <td>your_email@gmail.com</td>\n",
       "      <td>06/05/19</td>\n",
       "      <td>Your Name</td>\n",
       "      <td>1 YOUR STREET</td>\n",
       "      <td>0.0</td>\n",
       "      <td>...</td>\n",
       "      <td>Shipped</td>\n",
       "      <td>UPS(0002)</td>\n",
       "      <td>$13.88</td>\n",
       "      <td>$0.00</td>\n",
       "      <td>$0.00</td>\n",
       "      <td>$0.00</td>\n",
       "      <td>$0.00</td>\n",
       "      <td>13.88</td>\n",
       "      <td>Your Name</td>\n",
       "      <td>0.0</td>\n",
       "    </tr>\n",
       "    <tr>\n",
       "      <th>2</th>\n",
       "      <td>06/05/19</td>\n",
       "      <td>112-0000000-0000031</td>\n",
       "      <td>Visa - 0001</td>\n",
       "      <td>Amazon.com</td>\n",
       "      <td>0.0</td>\n",
       "      <td>your_email@gmail.com</td>\n",
       "      <td>06/05/19</td>\n",
       "      <td>Your Name</td>\n",
       "      <td>1 YOUR STREET</td>\n",
       "      <td>0.0</td>\n",
       "      <td>...</td>\n",
       "      <td>Shipped</td>\n",
       "      <td>USPS(0001)</td>\n",
       "      <td>$11.62</td>\n",
       "      <td>$0.00</td>\n",
       "      <td>$0.64</td>\n",
       "      <td>$0.00</td>\n",
       "      <td>$0.64</td>\n",
       "      <td>12.26</td>\n",
       "      <td>Your Name</td>\n",
       "      <td>0.0</td>\n",
       "    </tr>\n",
       "    <tr>\n",
       "      <th>3</th>\n",
       "      <td>06/18/19</td>\n",
       "      <td>112-0000000-0000032</td>\n",
       "      <td>Visa - 0001</td>\n",
       "      <td>Amazon.com</td>\n",
       "      <td>0.0</td>\n",
       "      <td>your_email@gmail.com</td>\n",
       "      <td>06/19/19</td>\n",
       "      <td>Your Name</td>\n",
       "      <td>1 YOUR STREET</td>\n",
       "      <td>0.0</td>\n",
       "      <td>...</td>\n",
       "      <td>Shipped</td>\n",
       "      <td>USPS(0001)</td>\n",
       "      <td>$11.98</td>\n",
       "      <td>$0.00</td>\n",
       "      <td>$0.66</td>\n",
       "      <td>$0.00</td>\n",
       "      <td>$0.66</td>\n",
       "      <td>12.64</td>\n",
       "      <td>Your Name</td>\n",
       "      <td>0.0</td>\n",
       "    </tr>\n",
       "    <tr>\n",
       "      <th>4</th>\n",
       "      <td>06/25/19</td>\n",
       "      <td>112-0000000-0000033</td>\n",
       "      <td>Visa - 0001</td>\n",
       "      <td>Amazon.com</td>\n",
       "      <td>0.0</td>\n",
       "      <td>your_email@gmail.com</td>\n",
       "      <td>06/26/19</td>\n",
       "      <td>Your Name</td>\n",
       "      <td>1 YOUR STREET</td>\n",
       "      <td>0.0</td>\n",
       "      <td>...</td>\n",
       "      <td>Shipped</td>\n",
       "      <td>UPS(0002)</td>\n",
       "      <td>$51.99</td>\n",
       "      <td>$0.00</td>\n",
       "      <td>$0.00</td>\n",
       "      <td>$0.00</td>\n",
       "      <td>$0.00</td>\n",
       "      <td>51.99</td>\n",
       "      <td>Your Name</td>\n",
       "      <td>0.0</td>\n",
       "    </tr>\n",
       "  </tbody>\n",
       "</table>\n",
       "<p>5 rows × 23 columns</p>\n",
       "</div>"
      ],
      "text/plain": [
       "  Order Date             Order ID Payment Instrument Type     Website  \\\n",
       "0   06/03/19  112-0000000-0000029             Visa - 0001  Amazon.com   \n",
       "1   06/03/19  112-0000000-0000030             Visa - 0001  Amazon.com   \n",
       "2   06/05/19  112-0000000-0000031             Visa - 0001  Amazon.com   \n",
       "3   06/18/19  112-0000000-0000032             Visa - 0001  Amazon.com   \n",
       "4   06/25/19  112-0000000-0000033             Visa - 0001  Amazon.com   \n",
       "\n",
       "   Purchase Order Number Ordering Customer Email Shipment Date  \\\n",
       "0                    0.0    your_email@gmail.com      06/05/19   \n",
       "1                    0.0    your_email@gmail.com      06/05/19   \n",
       "2                    0.0    your_email@gmail.com      06/05/19   \n",
       "3                    0.0    your_email@gmail.com      06/19/19   \n",
       "4                    0.0    your_email@gmail.com      06/26/19   \n",
       "\n",
       "  Shipping Address Name Shipping Address Street 1  Shipping Address Street 2  \\\n",
       "0             Your Name             1 YOUR STREET                        0.0   \n",
       "1             Your Name             1 YOUR STREET                        0.0   \n",
       "2             Your Name             1 YOUR STREET                        0.0   \n",
       "3             Your Name             1 YOUR STREET                        0.0   \n",
       "4             Your Name             1 YOUR STREET                        0.0   \n",
       "\n",
       "   ... Order Status Carrier Name & Tracking Number Subtotal Shipping Charge  \\\n",
       "0  ...      Shipped                     USPS(0001)   $28.99           $0.00   \n",
       "1  ...      Shipped                      UPS(0002)   $13.88           $0.00   \n",
       "2  ...      Shipped                     USPS(0001)   $11.62           $0.00   \n",
       "3  ...      Shipped                     USPS(0001)   $11.98           $0.00   \n",
       "4  ...      Shipped                      UPS(0002)   $51.99           $0.00   \n",
       "\n",
       "  Tax Before Promotions Total Promotions Tax Charged Total Charged Buyer Name  \\\n",
       "0                 $0.00            $0.00       $0.00         28.99  Your Name   \n",
       "1                 $0.00            $0.00       $0.00         13.88  Your Name   \n",
       "2                 $0.64            $0.00       $0.64         12.26  Your Name   \n",
       "3                 $0.66            $0.00       $0.66         12.64  Your Name   \n",
       "4                 $0.00            $0.00       $0.00         51.99  Your Name   \n",
       "\n",
       "  Group Name  \n",
       "0        0.0  \n",
       "1        0.0  \n",
       "2        0.0  \n",
       "3        0.0  \n",
       "4        0.0  \n",
       "\n",
       "[5 rows x 23 columns]"
      ]
     },
     "execution_count": 4,
     "metadata": {},
     "output_type": "execute_result"
    }
   ],
   "source": [
    "df[\"Total Charged\"] = df[\"Total Charged\"].str.replace('$','').astype(float)\n",
    "df.head()"
   ]
  },
  {
   "cell_type": "code",
   "execution_count": 5,
   "id": "caed4440",
   "metadata": {},
   "outputs": [
    {
     "data": {
      "text/plain": [
       "130.35"
      ]
     },
     "execution_count": 5,
     "metadata": {},
     "output_type": "execute_result"
    }
   ],
   "source": [
    "df[\"Total Charged\"].sum()"
   ]
  },
  {
   "cell_type": "code",
   "execution_count": 6,
   "id": "2530208f",
   "metadata": {},
   "outputs": [
    {
     "data": {
      "text/plain": [
       "21.724999999999998"
      ]
     },
     "execution_count": 6,
     "metadata": {},
     "output_type": "execute_result"
    }
   ],
   "source": [
    "df[\"Total Charged\"].mean()"
   ]
  },
  {
   "cell_type": "code",
   "execution_count": 7,
   "id": "85167200",
   "metadata": {},
   "outputs": [
    {
     "data": {
      "text/plain": [
       "13.260000000000002"
      ]
     },
     "execution_count": 7,
     "metadata": {},
     "output_type": "execute_result"
    }
   ],
   "source": [
    "df[\"Total Charged\"].median()"
   ]
  },
  {
   "cell_type": "code",
   "execution_count": 8,
   "id": "923819ec",
   "metadata": {},
   "outputs": [
    {
     "data": {
      "text/plain": [
       "51.99"
      ]
     },
     "execution_count": 8,
     "metadata": {},
     "output_type": "execute_result"
    }
   ],
   "source": [
    "df[\"Total Charged\"].max()"
   ]
  },
  {
   "cell_type": "code",
   "execution_count": 9,
   "id": "f4f324fc",
   "metadata": {},
   "outputs": [
    {
     "data": {
      "text/plain": [
       "10.59"
      ]
     },
     "execution_count": 9,
     "metadata": {},
     "output_type": "execute_result"
    }
   ],
   "source": [
    "df[\"Total Charged\"].min()"
   ]
  },
  {
   "cell_type": "code",
   "execution_count": 10,
   "id": "cd197d32",
   "metadata": {},
   "outputs": [
    {
     "data": {
      "text/plain": [
       "16.28745621636479"
      ]
     },
     "execution_count": 10,
     "metadata": {},
     "output_type": "execute_result"
    }
   ],
   "source": [
    "df[\"Total Charged\"].std()"
   ]
  },
  {
   "cell_type": "code",
   "execution_count": 11,
   "id": "2a9b9f46",
   "metadata": {},
   "outputs": [
    {
     "name": "stderr",
     "output_type": "stream",
     "text": [
      "/var/folders/27/j6c_5x5s2cndlm2bg35pmtwh0000gn/T/ipykernel_92014/148570183.py:1: FutureWarning: The default value of regex will change from True to False in a future version. In addition, single character regular expressions will *not* be treated as literal strings when regex=True.\n",
      "  df[\"Tax Charged\"] = df[\"Tax Charged\"].str.replace('$','').astype(float)\n"
     ]
    },
    {
     "data": {
      "text/html": [
       "<div>\n",
       "<style scoped>\n",
       "    .dataframe tbody tr th:only-of-type {\n",
       "        vertical-align: middle;\n",
       "    }\n",
       "\n",
       "    .dataframe tbody tr th {\n",
       "        vertical-align: top;\n",
       "    }\n",
       "\n",
       "    .dataframe thead th {\n",
       "        text-align: right;\n",
       "    }\n",
       "</style>\n",
       "<table border=\"1\" class=\"dataframe\">\n",
       "  <thead>\n",
       "    <tr style=\"text-align: right;\">\n",
       "      <th></th>\n",
       "      <th>Order Date</th>\n",
       "      <th>Order ID</th>\n",
       "      <th>Payment Instrument Type</th>\n",
       "      <th>Website</th>\n",
       "      <th>Purchase Order Number</th>\n",
       "      <th>Ordering Customer Email</th>\n",
       "      <th>Shipment Date</th>\n",
       "      <th>Shipping Address Name</th>\n",
       "      <th>Shipping Address Street 1</th>\n",
       "      <th>Shipping Address Street 2</th>\n",
       "      <th>...</th>\n",
       "      <th>Order Status</th>\n",
       "      <th>Carrier Name &amp; Tracking Number</th>\n",
       "      <th>Subtotal</th>\n",
       "      <th>Shipping Charge</th>\n",
       "      <th>Tax Before Promotions</th>\n",
       "      <th>Total Promotions</th>\n",
       "      <th>Tax Charged</th>\n",
       "      <th>Total Charged</th>\n",
       "      <th>Buyer Name</th>\n",
       "      <th>Group Name</th>\n",
       "    </tr>\n",
       "  </thead>\n",
       "  <tbody>\n",
       "    <tr>\n",
       "      <th>0</th>\n",
       "      <td>06/03/19</td>\n",
       "      <td>112-0000000-0000029</td>\n",
       "      <td>Visa - 0001</td>\n",
       "      <td>Amazon.com</td>\n",
       "      <td>0.0</td>\n",
       "      <td>your_email@gmail.com</td>\n",
       "      <td>06/05/19</td>\n",
       "      <td>Your Name</td>\n",
       "      <td>1 YOUR STREET</td>\n",
       "      <td>0.0</td>\n",
       "      <td>...</td>\n",
       "      <td>Shipped</td>\n",
       "      <td>USPS(0001)</td>\n",
       "      <td>$28.99</td>\n",
       "      <td>$0.00</td>\n",
       "      <td>$0.00</td>\n",
       "      <td>$0.00</td>\n",
       "      <td>0.00</td>\n",
       "      <td>28.99</td>\n",
       "      <td>Your Name</td>\n",
       "      <td>0.0</td>\n",
       "    </tr>\n",
       "    <tr>\n",
       "      <th>1</th>\n",
       "      <td>06/03/19</td>\n",
       "      <td>112-0000000-0000030</td>\n",
       "      <td>Visa - 0001</td>\n",
       "      <td>Amazon.com</td>\n",
       "      <td>0.0</td>\n",
       "      <td>your_email@gmail.com</td>\n",
       "      <td>06/05/19</td>\n",
       "      <td>Your Name</td>\n",
       "      <td>1 YOUR STREET</td>\n",
       "      <td>0.0</td>\n",
       "      <td>...</td>\n",
       "      <td>Shipped</td>\n",
       "      <td>UPS(0002)</td>\n",
       "      <td>$13.88</td>\n",
       "      <td>$0.00</td>\n",
       "      <td>$0.00</td>\n",
       "      <td>$0.00</td>\n",
       "      <td>0.00</td>\n",
       "      <td>13.88</td>\n",
       "      <td>Your Name</td>\n",
       "      <td>0.0</td>\n",
       "    </tr>\n",
       "    <tr>\n",
       "      <th>2</th>\n",
       "      <td>06/05/19</td>\n",
       "      <td>112-0000000-0000031</td>\n",
       "      <td>Visa - 0001</td>\n",
       "      <td>Amazon.com</td>\n",
       "      <td>0.0</td>\n",
       "      <td>your_email@gmail.com</td>\n",
       "      <td>06/05/19</td>\n",
       "      <td>Your Name</td>\n",
       "      <td>1 YOUR STREET</td>\n",
       "      <td>0.0</td>\n",
       "      <td>...</td>\n",
       "      <td>Shipped</td>\n",
       "      <td>USPS(0001)</td>\n",
       "      <td>$11.62</td>\n",
       "      <td>$0.00</td>\n",
       "      <td>$0.64</td>\n",
       "      <td>$0.00</td>\n",
       "      <td>0.64</td>\n",
       "      <td>12.26</td>\n",
       "      <td>Your Name</td>\n",
       "      <td>0.0</td>\n",
       "    </tr>\n",
       "    <tr>\n",
       "      <th>3</th>\n",
       "      <td>06/18/19</td>\n",
       "      <td>112-0000000-0000032</td>\n",
       "      <td>Visa - 0001</td>\n",
       "      <td>Amazon.com</td>\n",
       "      <td>0.0</td>\n",
       "      <td>your_email@gmail.com</td>\n",
       "      <td>06/19/19</td>\n",
       "      <td>Your Name</td>\n",
       "      <td>1 YOUR STREET</td>\n",
       "      <td>0.0</td>\n",
       "      <td>...</td>\n",
       "      <td>Shipped</td>\n",
       "      <td>USPS(0001)</td>\n",
       "      <td>$11.98</td>\n",
       "      <td>$0.00</td>\n",
       "      <td>$0.66</td>\n",
       "      <td>$0.00</td>\n",
       "      <td>0.66</td>\n",
       "      <td>12.64</td>\n",
       "      <td>Your Name</td>\n",
       "      <td>0.0</td>\n",
       "    </tr>\n",
       "    <tr>\n",
       "      <th>4</th>\n",
       "      <td>06/25/19</td>\n",
       "      <td>112-0000000-0000033</td>\n",
       "      <td>Visa - 0001</td>\n",
       "      <td>Amazon.com</td>\n",
       "      <td>0.0</td>\n",
       "      <td>your_email@gmail.com</td>\n",
       "      <td>06/26/19</td>\n",
       "      <td>Your Name</td>\n",
       "      <td>1 YOUR STREET</td>\n",
       "      <td>0.0</td>\n",
       "      <td>...</td>\n",
       "      <td>Shipped</td>\n",
       "      <td>UPS(0002)</td>\n",
       "      <td>$51.99</td>\n",
       "      <td>$0.00</td>\n",
       "      <td>$0.00</td>\n",
       "      <td>$0.00</td>\n",
       "      <td>0.00</td>\n",
       "      <td>51.99</td>\n",
       "      <td>Your Name</td>\n",
       "      <td>0.0</td>\n",
       "    </tr>\n",
       "  </tbody>\n",
       "</table>\n",
       "<p>5 rows × 23 columns</p>\n",
       "</div>"
      ],
      "text/plain": [
       "  Order Date             Order ID Payment Instrument Type     Website  \\\n",
       "0   06/03/19  112-0000000-0000029             Visa - 0001  Amazon.com   \n",
       "1   06/03/19  112-0000000-0000030             Visa - 0001  Amazon.com   \n",
       "2   06/05/19  112-0000000-0000031             Visa - 0001  Amazon.com   \n",
       "3   06/18/19  112-0000000-0000032             Visa - 0001  Amazon.com   \n",
       "4   06/25/19  112-0000000-0000033             Visa - 0001  Amazon.com   \n",
       "\n",
       "   Purchase Order Number Ordering Customer Email Shipment Date  \\\n",
       "0                    0.0    your_email@gmail.com      06/05/19   \n",
       "1                    0.0    your_email@gmail.com      06/05/19   \n",
       "2                    0.0    your_email@gmail.com      06/05/19   \n",
       "3                    0.0    your_email@gmail.com      06/19/19   \n",
       "4                    0.0    your_email@gmail.com      06/26/19   \n",
       "\n",
       "  Shipping Address Name Shipping Address Street 1  Shipping Address Street 2  \\\n",
       "0             Your Name             1 YOUR STREET                        0.0   \n",
       "1             Your Name             1 YOUR STREET                        0.0   \n",
       "2             Your Name             1 YOUR STREET                        0.0   \n",
       "3             Your Name             1 YOUR STREET                        0.0   \n",
       "4             Your Name             1 YOUR STREET                        0.0   \n",
       "\n",
       "   ... Order Status Carrier Name & Tracking Number Subtotal Shipping Charge  \\\n",
       "0  ...      Shipped                     USPS(0001)   $28.99           $0.00   \n",
       "1  ...      Shipped                      UPS(0002)   $13.88           $0.00   \n",
       "2  ...      Shipped                     USPS(0001)   $11.62           $0.00   \n",
       "3  ...      Shipped                     USPS(0001)   $11.98           $0.00   \n",
       "4  ...      Shipped                      UPS(0002)   $51.99           $0.00   \n",
       "\n",
       "  Tax Before Promotions Total Promotions Tax Charged Total Charged Buyer Name  \\\n",
       "0                 $0.00            $0.00        0.00         28.99  Your Name   \n",
       "1                 $0.00            $0.00        0.00         13.88  Your Name   \n",
       "2                 $0.64            $0.00        0.64         12.26  Your Name   \n",
       "3                 $0.66            $0.00        0.66         12.64  Your Name   \n",
       "4                 $0.00            $0.00        0.00         51.99  Your Name   \n",
       "\n",
       "   Group Name  \n",
       "0         0.0  \n",
       "1         0.0  \n",
       "2         0.0  \n",
       "3         0.0  \n",
       "4         0.0  \n",
       "\n",
       "[5 rows x 23 columns]"
      ]
     },
     "execution_count": 11,
     "metadata": {},
     "output_type": "execute_result"
    }
   ],
   "source": [
    "df[\"Tax Charged\"] = df[\"Tax Charged\"].str.replace('$','').astype(float)\n",
    "df.head()"
   ]
  },
  {
   "cell_type": "code",
   "execution_count": 12,
   "id": "f5631158",
   "metadata": {},
   "outputs": [
    {
     "data": {
      "text/plain": [
       "1.3"
      ]
     },
     "execution_count": 12,
     "metadata": {},
     "output_type": "execute_result"
    }
   ],
   "source": [
    "df[\"Tax Charged\"].sum()"
   ]
  },
  {
   "cell_type": "code",
   "execution_count": 13,
   "id": "28a44730",
   "metadata": {},
   "outputs": [
    {
     "data": {
      "text/plain": [
       "0.009973149213655544"
      ]
     },
     "execution_count": 13,
     "metadata": {},
     "output_type": "execute_result"
    }
   ],
   "source": [
    "df[\"Tax Charged\"].sum() / df[\"Total Charged\"].sum()"
   ]
  },
  {
   "cell_type": "code",
   "execution_count": 14,
   "id": "36c32e91",
   "metadata": {},
   "outputs": [
    {
     "data": {
      "text/html": [
       "<div>\n",
       "<style scoped>\n",
       "    .dataframe tbody tr th:only-of-type {\n",
       "        vertical-align: middle;\n",
       "    }\n",
       "\n",
       "    .dataframe tbody tr th {\n",
       "        vertical-align: top;\n",
       "    }\n",
       "\n",
       "    .dataframe thead th {\n",
       "        text-align: right;\n",
       "    }\n",
       "</style>\n",
       "<table border=\"1\" class=\"dataframe\">\n",
       "  <thead>\n",
       "    <tr style=\"text-align: right;\">\n",
       "      <th></th>\n",
       "      <th>Order Date</th>\n",
       "      <th>Order ID</th>\n",
       "      <th>Payment Instrument Type</th>\n",
       "      <th>Website</th>\n",
       "      <th>Purchase Order Number</th>\n",
       "      <th>Ordering Customer Email</th>\n",
       "      <th>Shipment Date</th>\n",
       "      <th>Shipping Address Name</th>\n",
       "      <th>Shipping Address Street 1</th>\n",
       "      <th>Shipping Address Street 2</th>\n",
       "      <th>...</th>\n",
       "      <th>Order Status</th>\n",
       "      <th>Carrier Name &amp; Tracking Number</th>\n",
       "      <th>Subtotal</th>\n",
       "      <th>Shipping Charge</th>\n",
       "      <th>Tax Before Promotions</th>\n",
       "      <th>Total Promotions</th>\n",
       "      <th>Tax Charged</th>\n",
       "      <th>Total Charged</th>\n",
       "      <th>Buyer Name</th>\n",
       "      <th>Group Name</th>\n",
       "    </tr>\n",
       "  </thead>\n",
       "  <tbody>\n",
       "    <tr>\n",
       "      <th>0</th>\n",
       "      <td>2019-06-03</td>\n",
       "      <td>112-0000000-0000029</td>\n",
       "      <td>Visa - 0001</td>\n",
       "      <td>Amazon.com</td>\n",
       "      <td>0.0</td>\n",
       "      <td>your_email@gmail.com</td>\n",
       "      <td>06/05/19</td>\n",
       "      <td>Your Name</td>\n",
       "      <td>1 YOUR STREET</td>\n",
       "      <td>0.0</td>\n",
       "      <td>...</td>\n",
       "      <td>Shipped</td>\n",
       "      <td>USPS(0001)</td>\n",
       "      <td>$28.99</td>\n",
       "      <td>$0.00</td>\n",
       "      <td>$0.00</td>\n",
       "      <td>$0.00</td>\n",
       "      <td>0.00</td>\n",
       "      <td>28.99</td>\n",
       "      <td>Your Name</td>\n",
       "      <td>0.0</td>\n",
       "    </tr>\n",
       "    <tr>\n",
       "      <th>1</th>\n",
       "      <td>2019-06-03</td>\n",
       "      <td>112-0000000-0000030</td>\n",
       "      <td>Visa - 0001</td>\n",
       "      <td>Amazon.com</td>\n",
       "      <td>0.0</td>\n",
       "      <td>your_email@gmail.com</td>\n",
       "      <td>06/05/19</td>\n",
       "      <td>Your Name</td>\n",
       "      <td>1 YOUR STREET</td>\n",
       "      <td>0.0</td>\n",
       "      <td>...</td>\n",
       "      <td>Shipped</td>\n",
       "      <td>UPS(0002)</td>\n",
       "      <td>$13.88</td>\n",
       "      <td>$0.00</td>\n",
       "      <td>$0.00</td>\n",
       "      <td>$0.00</td>\n",
       "      <td>0.00</td>\n",
       "      <td>13.88</td>\n",
       "      <td>Your Name</td>\n",
       "      <td>0.0</td>\n",
       "    </tr>\n",
       "    <tr>\n",
       "      <th>2</th>\n",
       "      <td>2019-06-05</td>\n",
       "      <td>112-0000000-0000031</td>\n",
       "      <td>Visa - 0001</td>\n",
       "      <td>Amazon.com</td>\n",
       "      <td>0.0</td>\n",
       "      <td>your_email@gmail.com</td>\n",
       "      <td>06/05/19</td>\n",
       "      <td>Your Name</td>\n",
       "      <td>1 YOUR STREET</td>\n",
       "      <td>0.0</td>\n",
       "      <td>...</td>\n",
       "      <td>Shipped</td>\n",
       "      <td>USPS(0001)</td>\n",
       "      <td>$11.62</td>\n",
       "      <td>$0.00</td>\n",
       "      <td>$0.64</td>\n",
       "      <td>$0.00</td>\n",
       "      <td>0.64</td>\n",
       "      <td>12.26</td>\n",
       "      <td>Your Name</td>\n",
       "      <td>0.0</td>\n",
       "    </tr>\n",
       "    <tr>\n",
       "      <th>3</th>\n",
       "      <td>2019-06-18</td>\n",
       "      <td>112-0000000-0000032</td>\n",
       "      <td>Visa - 0001</td>\n",
       "      <td>Amazon.com</td>\n",
       "      <td>0.0</td>\n",
       "      <td>your_email@gmail.com</td>\n",
       "      <td>06/19/19</td>\n",
       "      <td>Your Name</td>\n",
       "      <td>1 YOUR STREET</td>\n",
       "      <td>0.0</td>\n",
       "      <td>...</td>\n",
       "      <td>Shipped</td>\n",
       "      <td>USPS(0001)</td>\n",
       "      <td>$11.98</td>\n",
       "      <td>$0.00</td>\n",
       "      <td>$0.66</td>\n",
       "      <td>$0.00</td>\n",
       "      <td>0.66</td>\n",
       "      <td>12.64</td>\n",
       "      <td>Your Name</td>\n",
       "      <td>0.0</td>\n",
       "    </tr>\n",
       "    <tr>\n",
       "      <th>4</th>\n",
       "      <td>2019-06-25</td>\n",
       "      <td>112-0000000-0000033</td>\n",
       "      <td>Visa - 0001</td>\n",
       "      <td>Amazon.com</td>\n",
       "      <td>0.0</td>\n",
       "      <td>your_email@gmail.com</td>\n",
       "      <td>06/26/19</td>\n",
       "      <td>Your Name</td>\n",
       "      <td>1 YOUR STREET</td>\n",
       "      <td>0.0</td>\n",
       "      <td>...</td>\n",
       "      <td>Shipped</td>\n",
       "      <td>UPS(0002)</td>\n",
       "      <td>$51.99</td>\n",
       "      <td>$0.00</td>\n",
       "      <td>$0.00</td>\n",
       "      <td>$0.00</td>\n",
       "      <td>0.00</td>\n",
       "      <td>51.99</td>\n",
       "      <td>Your Name</td>\n",
       "      <td>0.0</td>\n",
       "    </tr>\n",
       "  </tbody>\n",
       "</table>\n",
       "<p>5 rows × 23 columns</p>\n",
       "</div>"
      ],
      "text/plain": [
       "  Order Date             Order ID Payment Instrument Type     Website  \\\n",
       "0 2019-06-03  112-0000000-0000029             Visa - 0001  Amazon.com   \n",
       "1 2019-06-03  112-0000000-0000030             Visa - 0001  Amazon.com   \n",
       "2 2019-06-05  112-0000000-0000031             Visa - 0001  Amazon.com   \n",
       "3 2019-06-18  112-0000000-0000032             Visa - 0001  Amazon.com   \n",
       "4 2019-06-25  112-0000000-0000033             Visa - 0001  Amazon.com   \n",
       "\n",
       "   Purchase Order Number Ordering Customer Email Shipment Date  \\\n",
       "0                    0.0    your_email@gmail.com      06/05/19   \n",
       "1                    0.0    your_email@gmail.com      06/05/19   \n",
       "2                    0.0    your_email@gmail.com      06/05/19   \n",
       "3                    0.0    your_email@gmail.com      06/19/19   \n",
       "4                    0.0    your_email@gmail.com      06/26/19   \n",
       "\n",
       "  Shipping Address Name Shipping Address Street 1  Shipping Address Street 2  \\\n",
       "0             Your Name             1 YOUR STREET                        0.0   \n",
       "1             Your Name             1 YOUR STREET                        0.0   \n",
       "2             Your Name             1 YOUR STREET                        0.0   \n",
       "3             Your Name             1 YOUR STREET                        0.0   \n",
       "4             Your Name             1 YOUR STREET                        0.0   \n",
       "\n",
       "   ... Order Status Carrier Name & Tracking Number Subtotal Shipping Charge  \\\n",
       "0  ...      Shipped                     USPS(0001)   $28.99           $0.00   \n",
       "1  ...      Shipped                      UPS(0002)   $13.88           $0.00   \n",
       "2  ...      Shipped                     USPS(0001)   $11.62           $0.00   \n",
       "3  ...      Shipped                     USPS(0001)   $11.98           $0.00   \n",
       "4  ...      Shipped                      UPS(0002)   $51.99           $0.00   \n",
       "\n",
       "  Tax Before Promotions Total Promotions Tax Charged Total Charged Buyer Name  \\\n",
       "0                 $0.00            $0.00        0.00         28.99  Your Name   \n",
       "1                 $0.00            $0.00        0.00         13.88  Your Name   \n",
       "2                 $0.64            $0.00        0.64         12.26  Your Name   \n",
       "3                 $0.66            $0.00        0.66         12.64  Your Name   \n",
       "4                 $0.00            $0.00        0.00         51.99  Your Name   \n",
       "\n",
       "   Group Name  \n",
       "0         0.0  \n",
       "1         0.0  \n",
       "2         0.0  \n",
       "3         0.0  \n",
       "4         0.0  \n",
       "\n",
       "[5 rows x 23 columns]"
      ]
     },
     "execution_count": 14,
     "metadata": {},
     "output_type": "execute_result"
    }
   ],
   "source": [
    "df['Order Date'] = pd.to_datetime(df['Order Date'])\n",
    "df.head()"
   ]
  },
  {
   "cell_type": "code",
   "execution_count": 15,
   "id": "508f039c",
   "metadata": {},
   "outputs": [
    {
     "data": {
      "text/plain": [
       "<AxesSubplot:xlabel='Order Date'>"
      ]
     },
     "execution_count": 15,
     "metadata": {},
     "output_type": "execute_result"
    },
    {
     "data": {
      "image/png": "[encoded data removed]",
      "text/plain": [
       "<Figure size 2000x1000 with 1 Axes>"
      ]
     },
     "metadata": {},
     "output_type": "display_data"
    }
   ],
   "source": [
    "df.plot.bar(x='Order Date', y='Total Charged', rot=90, figsize=(20,10))"
   ]
  },
  {
   "cell_type": "code",
   "execution_count": 16,
   "id": "61b3cf8a",
   "metadata": {},
   "outputs": [
    {
     "data": {
      "text/plain": [
       "Order Date\n",
       "2019-06-03    42.87\n",
       "2019-06-05    12.26\n",
       "2019-06-18    12.64\n",
       "2019-06-25    62.58\n",
       "Name: Total Charged, dtype: float64"
      ]
     },
     "execution_count": 16,
     "metadata": {},
     "output_type": "execute_result"
    }
   ],
   "source": [
    "daily_orders = df.groupby('Order Date').sum()[\"Total Charged\"]\n",
    "daily_orders.head()"
   ]
  },
  {
   "cell_type": "code",
   "execution_count": 17,
   "id": "3044a6e5",
   "metadata": {},
   "outputs": [
    {
     "data": {
      "text/plain": [
       "<AxesSubplot:xlabel='Order Date'>"
      ]
     },
     "execution_count": 17,
     "metadata": {},
     "output_type": "execute_result"
    },
    {
     "data": {
      "image/png": "[encoded data removed]",
      "text/plain": [
       "<Figure size 2000x1000 with 1 Axes>"
      ]
     },
     "metadata": {},
     "output_type": "display_data"
    }
   ],
   "source": [
    "daily_orders.plot.bar(figsize=(20,10))"
   ]
  },
  {
   "cell_type": "code",
   "execution_count": 18,
   "id": "77653d51",
   "metadata": {},
   "outputs": [
    {
     "data": {
      "text/plain": [
       "<AxesSubplot:ylabel='Total Charged'>"
      ]
     },
     "execution_count": 18,
     "metadata": {},
     "output_type": "execute_result"
    },
    {
     "data": {
      "image/png": "[encoded data removed]",
      "text/plain": [
       "<Figure size 2000x1000 with 1 Axes>"
      ]
     },
     "metadata": {},
     "output_type": "display_data"
    }
   ],
   "source": [
    "daily_orders.plot.pie(figsize=(20,10))"
   ]
  },
  {
   "cell_type": "code",
   "execution_count": 19,
   "id": "f4bc1629",
   "metadata": {},
   "outputs": [
    {
     "data": {
      "text/plain": [
       "<AxesSubplot:xlabel='Order Date'>"
      ]
     },
     "execution_count": 19,
     "metadata": {},
     "output_type": "execute_result"
    },
    {
     "data": {
      "image/png": "[encoded data removed]",
      "text/plain": [
       "<Figure size 2000x1000 with 1 Axes>"
      ]
     },
     "metadata": {},
     "output_type": "display_data"
    }
   ],
   "source": [
    "daily_orders.plot.line(figsize=(20,10))"
   ]
  },
  {
   "cell_type": "code",
   "execution_count": 20,
   "id": "a1e1f742",
   "metadata": {},
   "outputs": [
    {
     "data": {
      "text/plain": [
       "<AxesSubplot:xlabel='Order Date'>"
      ]
     },
     "execution_count": 20,
     "metadata": {},
     "output_type": "execute_result"
    },
    {
     "data": {
      "image/png": "[encoded data removed]",
      "text/plain": [
       "<Figure size 2000x1000 with 1 Axes>"
      ]
     },
     "metadata": {},
     "output_type": "display_data"
    }
   ],
   "source": [
    "df.plot.bar(x='Order Date', y=['Total Charged','Tax Charged'], rot=90, figsize=(20,10))"
   ]
  },
  {
   "cell_type": "code",
   "execution_count": 21,
   "id": "00d25867",
   "metadata": {},
   "outputs": [
    {
     "data": {
      "text/plain": [
       "Order Date\n",
       "2019-06-03    0.00\n",
       "2019-06-05    0.64\n",
       "2019-06-18    0.66\n",
       "2019-06-25    0.00\n",
       "Name: Tax Charged, dtype: float64"
      ]
     },
     "execution_count": 21,
     "metadata": {},
     "output_type": "execute_result"
    }
   ],
   "source": [
    "daily_orderstax = df.groupby('Order Date').sum()[\"Tax Charged\"]\n",
    "daily_orderstax.head()"
   ]
  },
  {
   "cell_type": "code",
   "execution_count": 22,
   "id": "77690561",
   "metadata": {},
   "outputs": [
    {
     "data": {
      "image/png": "[encoded data removed]",
      "text/plain": [
       "<Figure size 2000x1000 with 1 Axes>"
      ]
     },
     "metadata": {},
     "output_type": "display_data"
    }
   ],
   "source": [
    "df2 = pd.DataFrame({\"Total Charged\":daily_orders,\"Tax Charged\":daily_orderstax})\n",
    "ax = df2.plot.bar(color=[\"#1f77b4\",\"#ff7f0e\"], rot=90, figsize=(20,10))"
   ]
  },
  {
   "cell_type": "code",
   "execution_count": 23,
   "id": "9d683e54",
   "metadata": {},
   "outputs": [
    {
     "data": {
      "text/plain": [
       "<AxesSubplot:xlabel='Order Date'>"
      ]
     },
     "execution_count": 23,
     "metadata": {},
     "output_type": "execute_result"
    },
    {
     "data": {
      "image/png": "[encoded data removed]",
      "text/plain": [
       "<Figure size 2000x1000 with 1 Axes>"
      ]
     },
     "metadata": {},
     "output_type": "display_data"
    }
   ],
   "source": [
    "daily_orders.plot.line(figsize=(20,10))\n",
    "daily_orderstax.plot.line(figsize=(20,10))"
   ]
  },
  {
   "cell_type": "code",
   "execution_count": null,
   "id": "7b5b4eda",
   "metadata": {},
   "outputs": [],
   "source": []
  }
 ],
 "metadata": {
  "kernelspec": {
   "display_name": "Python 3 (ipykernel)",
   "language": "python",
   "name": "python3"
  },
  "language_info": {
   "codemirror_mode": {
    "name": "ipython",
    "version": 3
   },
   "file_extension": ".py",
   "mimetype": "text/x-python",
   "name": "python",
   "nbconvert_exporter": "python",
   "pygments_lexer": "ipython3",
   "version": "3.9.13"
  }
 },
 "nbformat": 4,
 "nbformat_minor": 5
}
