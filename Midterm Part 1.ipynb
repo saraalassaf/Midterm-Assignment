{
 "cells": [
  {
   "cell_type": "code",
   "execution_count": 1,
   "id": "90ec7737",
   "metadata": {},
   "outputs": [
    {
     "name": "stdout",
     "output_type": "stream",
     "text": [
      "0 : 9\n",
      "1 : 14\n",
      "2 : 19\n",
      "3 : 20\n",
      "4 : 22\n",
      "5 : 10\n",
      "6 : 26\n",
      "7 : 17\n",
      "8 : 13\n",
      "9 : 24\n",
      "10 : 14\n"
     ]
    }
   ],
   "source": [
    "data_file = open(\"numbers.txt\", \"r\")\n",
    "numbers = [2,4,6,8,4,5,2,1,9,0,4,6,7,4,3,2,1,9,10,3,7,9,6,0,1,3,5,6,7,8,9,10,2,3,6,8,9,10,6,7,4,3, 2,1,9,10,3,7,9,6,0,1,3,5,6,7,8,9,10,2,3,6,8,9,10,2,4,6,8,4,5,2,1,9,0,4,6,7,4,3,2,1,9,10,3,7,9,6,4,5,2,1,9,0,4,6,7,4,3,2,1,9,10,3,7,9,6,0,1,3,5,6,7,8,9,10,2,3,6,8,9,10,6,7,4,3,6,8,4,5,2,10,3,7,9,6,0,1,3,5,6,7,8,9,10,2,3,6,8,9,10,2,4,6,8,4,5,2,1,9,0,4,6,7,4,2,4,6,8,4,5,2,1,9,0,4,6,7,4,3,2,1,9,10,3,7,9,6]\n",
    "frequency = {}\n",
    "for num in numbers:\n",
    "    if num in frequency:\n",
    "        frequency[num] += 1\n",
    "    else:\n",
    "        frequency[num] = 1\n",
    "numbers2 = sorted(frequency.items())\n",
    "for i in numbers2:\n",
    "    print(i[0], \":\", i[1])"
   ]
  },
  {
   "cell_type": "code",
   "execution_count": 11,
   "id": "be75b00b",
   "metadata": {},
   "outputs": [
    {
     "data": {
      "image/png": "[encoded data removed]",
      "text/plain": [
       "<Figure size 640x480 with 1 Axes>"
      ]
     },
     "metadata": {},
     "output_type": "display_data"
    }
   ],
   "source": [
    "from matplotlib import pyplot as plt\n",
    "x = list(frequency.keys())\n",
    "y = list(frequency.values())\n",
    "plt.bar(x,y)\n",
    "plt.show()"
   ]
  },
  {
   "cell_type": "code",
   "execution_count": 3,
   "id": "ac809c66",
   "metadata": {},
   "outputs": [],
   "source": [
    "import json\n",
    "y = json.dumps(frequency)"
   ]
  },
  {
   "cell_type": "code",
   "execution_count": null,
   "id": "77d16ee1",
   "metadata": {},
   "outputs": [],
   "source": []
  }
 ],
 "metadata": {
  "kernelspec": {
   "display_name": "Python 3 (ipykernel)",
   "language": "python",
   "name": "python3"
  },
  "language_info": {
   "codemirror_mode": {
    "name": "ipython",
    "version": 3
   },
   "file_extension": ".py",
   "mimetype": "text/x-python",
   "name": "python",
   "nbconvert_exporter": "python",
   "pygments_lexer": "ipython3",
   "version": "3.9.13"
  }
 },
 "nbformat": 4,
 "nbformat_minor": 5
}
